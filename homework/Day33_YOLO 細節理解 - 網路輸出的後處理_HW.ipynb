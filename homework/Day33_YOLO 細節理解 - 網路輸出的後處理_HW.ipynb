{
 "cells": [
  {
   "cell_type": "markdown",
   "metadata": {
    "colab_type": "text",
    "id": "Bu7RSyCqYdBS"
   },
   "source": [
    "## YOLO 細節理解 - 網路輸出的後處理    \n",
    "今天的課程，我們說明了NMS在yolo中運作的情形:\n",
    "* NMS在YOLO的實際運作以每一個類別為主，各別執行NMS。     \n",
    "* YOLO 在NMS中採用的信心度為「每個 bbox 包含各類別的信心度」      \n"
   ]
  },
  {
   "cell_type": "markdown",
   "metadata": {
    "colab_type": "text",
    "id": "Z9YHBcEGYdBV"
   },
   "source": [
    "### 作業\n",
    "在NMS流程中，IoU重疊率參數(nms_threshold )調高，試著思考一下輸出的預測框會有甚麼變化?\n",
    "Hint: 可以回頭看今天介紹的內容，思考輸出的預測框變多或變少?\n"
   ]
  },
  {
   "cell_type": "code",
   "execution_count": 1,
   "metadata": {},
   "outputs": [
    {
     "name": "stdout",
     "output_type": "stream",
     "text": [
      "ans = bbox numver increase, if increase nms_threshold\n"
     ]
    }
   ],
   "source": [
    "print ('ans = bbox numver increase, if increase nms_threshold')"
   ]
  },
  {
   "cell_type": "code",
   "execution_count": 5,
   "metadata": {},
   "outputs": [
    {
     "name": "stdout",
     "output_type": "stream",
     "text": [
      "nms_threshold0.9\n",
      "bbox number increase\n"
     ]
    }
   ],
   "source": [
    "nms_threshold = float(input(\"nms_threshold\"))\n",
    "if nms_threshold < 1:\n",
    "    print(\"bbox number increase\")\n",
    "else:\n",
    "    print(\"bbox number decrease\")"
   ]
  },
  {
   "cell_type": "code",
   "execution_count": null,
   "metadata": {},
   "outputs": [],
   "source": []
  }
 ],
 "metadata": {
  "colab": {
   "name": "Day33.YOLO 細節理解 - 網路輸出的後處理_HW.ipynb",
   "provenance": []
  },
  "kernelspec": {
   "display_name": "Python 3",
   "language": "python",
   "name": "python3"
  },
  "language_info": {
   "codemirror_mode": {
    "name": "ipython",
    "version": 3
   },
   "file_extension": ".py",
   "mimetype": "text/x-python",
   "name": "python",
   "nbconvert_exporter": "python",
   "pygments_lexer": "ipython3",
   "version": "3.6.10"
  }
 },
 "nbformat": 4,
 "nbformat_minor": 1
}
